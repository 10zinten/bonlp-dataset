{
 "cells": [
  {
   "cell_type": "code",
   "execution_count": 1,
   "metadata": {},
   "outputs": [],
   "source": [
    "import os                                                                                                         \n",
    "import glob                                                                                                       \n",
    "import yaml as yml                                                                                                \n",
    "import json"
   ]
  },
  {
   "cell_type": "code",
   "execution_count": 4,
   "metadata": {},
   "outputs": [],
   "source": [
    "out_dir = 'data/toupload'                                                                                      \n",
    "out_fns = sorted(glob.glob(os.path.join(out_dir, \"*\")))                                                           \n",
    "keys_path = 'data/keys/test_keys.yml'   "
   ]
  },
  {
   "cell_type": "code",
   "execution_count": 7,
   "metadata": {},
   "outputs": [],
   "source": [
    "with open(keys_path) as f:\n",
    "    keys = yml.load(f.read())"
   ]
  },
  {
   "cell_type": "code",
   "execution_count": 9,
   "metadata": {},
   "outputs": [
    {
     "data": {
      "text/plain": [
       "['མཚན་ཉིད་ནི',\n",
       " 'མཚན་ཉིད་དེ',\n",
       " 'མཚན་ཉིད་ཅན',\n",
       " 'མཚན་ཉིད་གང་ཞེ་ན',\n",
       " 'མཚན་ཉིད་ཅན་ནི',\n",
       " 'ཀྱི་མཚན་ཉིད་',\n",
       " 'ལ་དབྱེ་ན',\n",
       " '་ཡོད་དེ།',\n",
       " '་གང་ཞེ་ན།',\n",
       " '་ཡོད་དེ།']"
      ]
     },
     "execution_count": 9,
     "metadata": {},
     "output_type": "execute_result"
    }
   ],
   "source": [
    "keys[:10]"
   ]
  },
  {
   "cell_type": "code",
   "execution_count": 13,
   "metadata": {},
   "outputs": [
    {
     "name": "stderr",
     "output_type": "stream",
     "text": [
      "IOPub data rate exceeded.\n",
      "The notebook server will temporarily stop sending output\n",
      "to the client in order to avoid crashing it.\n",
      "To change this limit, set the config variable\n",
      "`--NotebookApp.iopub_data_rate_limit`.\n",
      "\n",
      "Current values:\n",
      "NotebookApp.iopub_data_rate_limit=1000000.0 (bytes/sec)\n",
      "NotebookApp.rate_limit_window=3.0 (secs)\n",
      "\n"
     ]
    }
   ],
   "source": [
    "for fn in out_fns:\n",
    "    with open(fn) as f:\n",
    "        print(f.read())           "
   ]
  },
  {
   "cell_type": "markdown",
   "metadata": {},
   "source": [
    "## Report\n",
    "\n",
    "1. Removed `ནི།` from `དབྱེ་གཞི་དབྱེ་བ།` and \n"
   ]
  }
 ],
 "metadata": {
  "kernelspec": {
   "display_name": "Python 3",
   "language": "python",
   "name": "python3"
  },
  "language_info": {
   "codemirror_mode": {
    "name": "ipython",
    "version": 3
   },
   "file_extension": ".py",
   "mimetype": "text/x-python",
   "name": "python",
   "nbconvert_exporter": "python",
   "pygments_lexer": "ipython3",
   "version": "3.6.7"
  }
 },
 "nbformat": 4,
 "nbformat_minor": 2
}
